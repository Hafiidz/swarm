{
 "cells": [
  {
   "cell_type": "code",
   "execution_count": 29,
   "metadata": {},
   "outputs": [],
   "source": [
    "import pandas as pd\n",
    "\n",
    "\n",
    "def shape(s):\n",
    "    p = \"/root/catkin_ws/src/swarm/scripts/\"\n",
    "    # df = pd.read_csv(\"{}{}.csv\".format(p, s))\n",
    "\n",
    "    if s == \"square\":\n",
    "        x = [0, 0, 100, 100]\n",
    "        y = [0, 100, 0, 100]\n",
    "    else:\n",
    "        x = [0, 50, 50, 100]\n",
    "        y = [50, 100, 0, 50]\n",
    "\n",
    "    df = pd.DataFrame({\"x\": x, \"y\": y})\n",
    "\n",
    "    df = df.astype(float)\n",
    "\n",
    "    # coordinate is 11x11, normalize to ensure, 3 spaces to the side and 5 at center\n",
    "    target_space = 3\n",
    "    target_length = 5\n",
    "\n",
    "    df[\"x\"] = df[\"x\"] - df[\"x\"].min()\n",
    "    df[\"y\"] = df[\"y\"] - df[\"y\"].min()\n",
    "\n",
    "    l_x = abs(df[\"x\"].max() - df[\"x\"].min())\n",
    "    l_y = abs(df[\"y\"].max() - df[\"y\"].min())\n",
    "\n",
    "    length = max(l_x, l_y)\n",
    "\n",
    "    arr = df.to_numpy()\n",
    "    coord = (arr / length * target_length) + target_space\n",
    "    return coord.round(decimals=2)"
   ]
  },
  {
   "cell_type": "code",
   "execution_count": 32,
   "metadata": {},
   "outputs": [
    {
     "name": "stdout",
     "output_type": "stream",
     "text": [
      "(3.0, 5.15)\n",
      "(3.0, 5.6)\n",
      "(3.05, 6.08)\n",
      "(3.1, 4.72)\n",
      "(3.2, 6.51)\n",
      "(3.28, 4.31)\n",
      "(3.43, 6.91)\n",
      "(3.56, 3.91)\n",
      "(3.71, 7.27)\n",
      "(3.88, 3.58)\n",
      "(4.04, 7.55)\n",
      "(4.26, 3.3)\n",
      "(4.41, 7.77)\n",
      "(4.69, 3.13)\n",
      "(4.79, 7.92)\n",
      "(5.15, 3.0)\n",
      "(5.2, 8.0)\n",
      "(5.6, 8.0)\n",
      "(5.63, 3.0)\n",
      "(6.01, 7.95)\n",
      "(6.08, 3.05)\n",
      "(6.41, 7.85)\n",
      "(6.51, 3.2)\n",
      "(6.76, 7.67)\n",
      "(6.91, 3.43)\n",
      "(7.12, 7.42)\n",
      "(7.27, 3.71)\n",
      "(7.39, 7.14)\n",
      "(7.55, 4.04)\n",
      "(7.62, 6.84)\n",
      "(7.75, 4.39)\n",
      "(7.82, 6.43)\n",
      "(7.92, 4.79)\n",
      "(7.95, 6.01)\n",
      "(8.0, 5.2)\n",
      "(8.0, 5.63)\n"
     ]
    }
   ],
   "source": [
    "goal = shape(\"circle\")\n",
    "\n",
    "for i in range(goal.shape[0]):\n",
    "    # print(i)\n",
    "    print((goal[i][0], goal[i][1]))"
   ]
  }
 ],
 "metadata": {
  "kernelspec": {
   "display_name": "ros",
   "language": "python",
   "name": "python3"
  },
  "language_info": {
   "codemirror_mode": {
    "name": "ipython",
    "version": 3
   },
   "file_extension": ".py",
   "mimetype": "text/x-python",
   "name": "python",
   "nbconvert_exporter": "python",
   "pygments_lexer": "ipython3",
   "version": "3.9.13"
  },
  "orig_nbformat": 4,
  "vscode": {
   "interpreter": {
    "hash": "4b3670a374a127f038adba896d5279230496c909187a379a089373453362da9b"
   }
  }
 },
 "nbformat": 4,
 "nbformat_minor": 2
}
